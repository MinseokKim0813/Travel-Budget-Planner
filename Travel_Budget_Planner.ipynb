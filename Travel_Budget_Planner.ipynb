{
  "nbformat": 4,
  "nbformat_minor": 0,
  "metadata": {
    "colab": {
      "provenance": [],
      "include_colab_link": true
    },
    "kernelspec": {
      "name": "python3",
      "display_name": "Python 3"
    },
    "language_info": {
      "name": "python"
    }
  },
  "cells": [
    {
      "cell_type": "markdown",
      "metadata": {
        "id": "view-in-github",
        "colab_type": "text"
      },
      "source": [
        "<a href=\"https://colab.research.google.com/github/MinseokKim0813/Travel-Budget-Planner/blob/main/Travel_Budget_Planner.ipynb\" target=\"_parent\"><img src=\"https://colab.research.google.com/assets/colab-badge.svg\" alt=\"Open In Colab\"/></a>"
      ]
    },
    {
      "cell_type": "markdown",
      "source": [
        "This data feature calculates estimated budget for the travel. It checks the hotel price of the city entered by the user, and converts that to the local currency.\n",
        "\n",
        "API Use:\n",
        "1. Hotel search API (\"Amadeus\")\n",
        "2. Currency API (\"Currency Beacon\")"
      ],
      "metadata": {
        "id": "2y0ysnQ6uYXT"
      }
    },
    {
      "cell_type": "code",
      "execution_count": null,
      "metadata": {
        "id": "CsakTyHAtdZ8"
      },
      "outputs": [],
      "source": [
        "from google.colab import userdata\n",
        "\n",
        "# API keys\n",
        "CURRENCY_API_KEY = userdata.get('CurrencyBeacon')\n",
        "HOTEL_API_KEY = userdata.get('Amadeus')\n",
        "HOTEL_API_SECRET = userdata.get('AmadeusSecret')\n",
        "\n",
        "# Or dereference lines below to use my API keys\n",
        "\n",
        "# CURRENCY_API_KEY = \"pwahYg9b6bnequhzEK0qgb1ovob89Un3\"\n",
        "# HOTEL_API_KEY = \"GWSN8cJGYUx3Qpf6EnVSJQ0EFKbCorIy\"\n",
        "# HOTEL_API_SECRET = \"vArB9kLtJsIqOAUz\"\n",
        "\n",
        "\n",
        "# Error handling\n",
        "if not CURRENCY_API_KEY:\n",
        "  print(\"Err: Currency API key not found\")\n",
        "elif not HOTEL_API_KEY or not HOTEL_API_SECRET:\n",
        "  print(\"Err: Hotel API key not found\")\n",
        "\n",
        "\n"
      ]
    },
    {
      "cell_type": "markdown",
      "source": [
        "Getting hotel prices near the specific city using Amadeus API\n",
        "\n",
        "Documentation link: https://developers.amadeus.com/self-service/category/hotels/api-doc/hotel-list/api-reference"
      ],
      "metadata": {
        "id": "zwNYnJk2Sa93"
      }
    },
    {
      "cell_type": "markdown",
      "source": [
        "1. Getting Access Token"
      ],
      "metadata": {
        "id": "3zPiOmbSPrOu"
      }
    },
    {
      "cell_type": "code",
      "source": [
        "import requests\n",
        "\n",
        "def get_access_token(api_key, api_secret):\n",
        "    url = \"https://test.api.amadeus.com/v1/security/oauth2/token\"\n",
        "    headers = {\"Content-Type\": \"application/x-www-form-urlencoded\"}\n",
        "    data = {\n",
        "        \"grant_type\": \"client_credentials\",\n",
        "        \"client_id\": api_key,\n",
        "        \"client_secret\": api_secret\n",
        "    }\n",
        "\n",
        "    # Make the request to get the token\n",
        "    response = requests.post(url, headers=headers, data=data)\n",
        "\n",
        "\n",
        "    # If the response is successful (200 OK), extract the token\n",
        "    if response.status_code == 200:\n",
        "        return response.json().get(\"access_token\", \"No access token found in response\")\n",
        "    else:\n",
        "        return f\"Error: {response.status_code}, {response.text}\"\n",
        "\n",
        "\n",
        "\n",
        "api_key = HOTEL_API_KEY\n",
        "api_secret = HOTEL_API_SECRET\n",
        "token = get_access_token(api_key, api_secret)\n",
        "\n"
      ],
      "metadata": {
        "id": "4x5icA1QShgs"
      },
      "execution_count": null,
      "outputs": []
    },
    {
      "cell_type": "markdown",
      "source": [
        "2. Getting hotel list in the city\n",
        "\n",
        "Link for reference: https://developers.amadeus.com/self-service/category/hotels/api-doc/hotel-list/api-reference\n",
        "\n",
        "Testing:\n",
        "\n",
        "I have tested with 3 different cities: SEL (Seoul), NYC (New York City), PAR (Paris). And refined the code so it works for all of them. So the user can get budget plan for different cities."
      ],
      "metadata": {
        "id": "y8X_6bPAc09y"
      }
    },
    {
      "cell_type": "markdown",
      "source": [
        "API rate limit consideration:\n",
        "\n",
        "10 transactions per second,\n",
        "1 request / 100ms\n",
        "\n",
        "So I'll make it wait for 110 ms after request\n",
        "\n",
        "API Rate Limit Reference Link: https://developers.amadeus.com/pricing"
      ],
      "metadata": {
        "id": "KLEjLwyYBeKB"
      }
    },
    {
      "cell_type": "code",
      "source": [
        "\n",
        "# Get access token again\n",
        "api_key = HOTEL_API_KEY\n",
        "api_secret = HOTEL_API_SECRET\n",
        "token = get_access_token(api_key, api_secret)\n",
        "\n",
        "import time\n",
        "\n",
        "def search_hotels_by_city(city_code, radius, radius_unit, token):\n",
        "    url = f\"https://test.api.amadeus.com/v1/reference-data/locations/hotels/by-city?cityCode={city_code}&radius={radius}&radiusUnit={radius_unit}&hotelSource=ALL\"\n",
        "    headers = {\"Authorization\": f\"Bearer {token}\"}\n",
        "\n",
        "    # Make the request\n",
        "    response = requests.get(url, headers=headers)\n",
        "\n",
        "    # Print status code and response for debugging\n",
        "    print(f\"Status Code: {response.status_code}\")\n",
        "\n",
        "    # API Limit Consideration:\n",
        "    time.sleep(0.11)\n",
        "\n",
        "    # Error Handling:\n",
        "    # Check if the response is successful and return hotel data\n",
        "    if response.status_code == 200:\n",
        "        return response.json()  # Return the hotel data as JSON\n",
        "    else:\n",
        "        return f\"Error: {response.status_code}, {response.text}\"\n",
        "\n",
        "# Example usage\n",
        "city_code = \"PAR\"  # City code can be found here: https://www.iata.org/en/publications/directories/code-search/?airport.search=SEL\n",
        "radius = 5  # Radius in KM\n",
        "radius_unit = \"KM\"\n",
        "hotel_results = search_hotels_by_city(city_code, radius, radius_unit, token)\n"
      ],
      "metadata": {
        "colab": {
          "base_uri": "https://localhost:8080/"
        },
        "id": "je0JQCQdc0rs",
        "outputId": "d54135ec-b8d8-49f8-b3c5-c735464622b6"
      },
      "execution_count": null,
      "outputs": [
        {
          "output_type": "stream",
          "name": "stdout",
          "text": [
            "Status Code: 200\n"
          ]
        }
      ]
    },
    {
      "cell_type": "markdown",
      "source": [
        "We only need hotel ID, and since it is showing too many hotels so only show 10 hotels"
      ],
      "metadata": {
        "id": "yoW27IBw2eOj"
      }
    },
    {
      "cell_type": "code",
      "source": [
        "# store the hotel ID, 10 hotels\n",
        "hotel_ID_array = []\n",
        "for hotelNum in range (10):\n",
        "  hotel_ID = hotel_results['data'][hotelNum]['hotelId']\n",
        "  hotel_ID_array.append(hotel_ID)\n",
        "\n",
        "# check if successfully stored\n",
        "for id in hotel_ID_array:\n",
        "  print(id)"
      ],
      "metadata": {
        "colab": {
          "base_uri": "https://localhost:8080/"
        },
        "id": "1zisaEqc2kjf",
        "outputId": "e5c51d3e-e11e-4c10-bb32-8d10baeeeed1"
      },
      "execution_count": null,
      "outputs": [
        {
          "output_type": "stream",
          "name": "stdout",
          "text": [
            "YXPARRND\n",
            "HNPARKGU\n",
            "HNPARNUJ\n",
            "HNPARSPC\n",
            "BWPAR599\n",
            "BWPAR196\n",
            "RTPARKKK\n",
            "OIPAR555\n",
            "BLPARY3E\n",
            "RTPAR157\n"
          ]
        }
      ]
    },
    {
      "cell_type": "markdown",
      "source": [
        "The list only showed the name, address, hotelID and not the prices. So call the API again with each hotel ID for the price.\n",
        "\n",
        "3. Search for the hotel prices"
      ],
      "metadata": {
        "id": "sqVbYG8XdSCc"
      }
    },
    {
      "cell_type": "code",
      "source": [
        "# get access token again in case it already expired\n",
        "token = get_access_token(api_key, api_secret)\n",
        "\n",
        "\n",
        "# get hotel details\n",
        "def get_hotel_details(hotel_id, token, check_in_date, adult_num = 1, room_quantity = 1):\n",
        "    # Construct the URL for the hotel offers search\n",
        "    url = f\"https://test.api.amadeus.com/v3/shopping/hotel-offers?hotelIds={hotel_id}&adults={adult_num}&checkInDate={check_in_date}&roomQuantity={room_quantity}&paymentPolicy=NONE&bestRateOnly=false\"\n",
        "    headers = {\"Authorization\": f\"Bearer {token}\"}\n",
        "\n",
        "    # Make the request to get hotel offers\n",
        "    response = requests.get(url, headers=headers)\n",
        "\n",
        "\n",
        "    # Hotel availability\n",
        "    global available\n",
        "    available = False\n",
        "\n",
        "    # API Limit Consideration:\n",
        "    time.sleep(0.11)\n",
        "\n",
        "    # Error Handling:\n",
        "    # I found that it gives error when there are no available rooms for the hotel, or when the hotel data is outdated\n",
        "    # If the hotel is available\n",
        "    if response.status_code == 200:\n",
        "        # Return price of the hotel\n",
        "        available = True\n",
        "        return response.json()[\"data\"][0][\"offers\"][0][\"price\"]\n",
        "\n",
        "\n",
        "# Hotel search details\n",
        "check_in_date = \"2024-10-30\"\n",
        "adult_num = 1\n",
        "room_quantity = 1\n",
        "\n",
        "price_array = []\n",
        "counter = 1\n",
        "\n",
        "# Loop through the hotel IDs and get offer price for each hotel\n",
        "for hotel_id in hotel_ID_array:\n",
        "    hotel_offers = get_hotel_details(hotel_id, token, check_in_date, adult_num, room_quantity)\n",
        "\n",
        "    key_array = []\n",
        "\n",
        "    # Only include ones available (unavailable ones or outdated ones cause Error)\n",
        "    # And get the prices of the available hotels\n",
        "    if available:\n",
        "\n",
        "      # I noticed that each city has different JSON offer format (the key string is different; sometimes \"base\" and sometimes \"total\")\n",
        "      # So I checked the keys of the JSON first and checked the appropriate key\n",
        "      if \"total\" in hotel_offers.keys():\n",
        "        price_array.append(hotel_offers[\"total\"])\n",
        "      elif \"base\" in hotel_offers.keys():\n",
        "        price_array.append(hotel_offers[\"base\"])\n",
        "\n",
        "      currency = hotel_offers[\"currency\"]\n",
        "\n",
        "    print(str(counter) + \" hotels processed\")\n",
        "    counter += 1\n",
        "\n",
        "\n",
        "\n",
        "# Get the average price\n",
        "ave_price = 0\n",
        "for each_price in price_array:\n",
        "  ave_price += float(each_price)\n",
        "\n",
        "ave_price /= len(price_array)\n",
        "ave_price = int(ave_price)\n",
        "\n",
        "print(\"Average prices, Currency: \" + str(ave_price) + \", \" + currency)\n",
        "\n",
        "\n"
      ],
      "metadata": {
        "colab": {
          "base_uri": "https://localhost:8080/"
        },
        "id": "zY0frVG6dcHO",
        "outputId": "c63dfa63-677d-4c1e-d678-54990abaa320"
      },
      "execution_count": null,
      "outputs": [
        {
          "output_type": "stream",
          "name": "stdout",
          "text": [
            "1 hotels processed\n",
            "2 hotels processed\n",
            "3 hotels processed\n",
            "4 hotels processed\n",
            "5 hotels processed\n",
            "6 hotels processed\n",
            "7 hotels processed\n",
            "8 hotels processed\n",
            "9 hotels processed\n",
            "10 hotels processed\n",
            "Average prices, Currency: 37, EUR\n"
          ]
        }
      ]
    },
    {
      "cell_type": "markdown",
      "source": [
        "Now I'm gonna implement currency API to convert the average price into the currency I want.\n",
        "\n",
        "API Documentation link: https://currencybeacon.com/api-documentation\n",
        "\n",
        "Currency codes: https://currencybeacon.com/supported-currencies"
      ],
      "metadata": {
        "id": "XOT65atvxuTS"
      }
    },
    {
      "cell_type": "markdown",
      "source": [
        "API Restriction Consideration:\n",
        "In terms of service document (at section 4.2), it mentions that I should not store the data for more than 8 hours. In my case, I am only using the currency exchange rate for immediate calculation and do not store the currency rate, so I am using it appropriately. There is no other restriction or quota limit.\n",
        "\n",
        "Terms of Service Link: https://currencybeacon.com/terms"
      ],
      "metadata": {
        "id": "0aeCNomsG5jx"
      }
    },
    {
      "cell_type": "code",
      "source": [
        "# Convert currency\n",
        "def convert_currency(base_currency, converted_currency):\n",
        "  url = f\"https://api.currencybeacon.com/v1/latest?api_key={CURRENCY_API_KEY}&base={base_currency}&symbols={converted_currency}\"\n",
        "  response = requests.get(url)\n",
        "\n",
        "  if response.status_code == 200:\n",
        "    # Get the currency exchange rate\n",
        "    currency_rate = response.json()[\"response\"][\"rates\"][converted_currency]\n",
        "    # Calculate the price\n",
        "    converted_price = ave_price * currency_rate\n",
        "    print(\"For \" + str(adult_num) + \" adult, on \" + check_in_date + \", for \" + str(room_quantity) + \" room, in \" + city_code + \" requires at least:\")\n",
        "    print(str(ave_price), str(base_currency) + \" = \" + str(converted_price), converted_currency)\n",
        "  else:\n",
        "    print(\"Error: \" + response.status_code)\n",
        "\n",
        "\n",
        "# Base currency is the original currency for the found hotels\n",
        "base_currency = currency\n",
        "# Use currency code for the desired currency\n",
        "converted_currency = \"USD\"\n",
        "\n",
        "convert_currency(base_currency, converted_currency)"
      ],
      "metadata": {
        "colab": {
          "base_uri": "https://localhost:8080/"
        },
        "id": "Th4T-viM0_T0",
        "outputId": "d96ad7c9-cb62-442f-8bbc-d54d14930a0b"
      },
      "execution_count": null,
      "outputs": [
        {
          "output_type": "stream",
          "name": "stdout",
          "text": [
            "For 1 adult, on 2024-10-30, for 1 room, in PAR requires at least:\n",
            "37 EUR = 40.83693145 USD\n"
          ]
        }
      ]
    }
  ]
}